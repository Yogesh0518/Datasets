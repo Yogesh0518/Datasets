{
 "cells": [
  {
   "cell_type": "code",
   "execution_count": 1,
   "id": "5b89f8d4",
   "metadata": {},
   "outputs": [
    {
     "name": "stdout",
     "output_type": "stream",
     "text": [
      "Learned Q-values:\n",
      "[[0.91415789 2.12684211]\n",
      " [0.91415789 2.36315789]\n",
      " [2.12684211 3.73684211]\n",
      " [2.36315789 5.26315789]\n",
      " [4.73684211 4.26315789]]\n",
      "Optimal path:\n",
      "[0, 1, 2, 3, 4]\n"
     ]
    }
   ],
   "source": [
    "import numpy as np\n",
    "\n",
    "# Define the environment\n",
    "num_states = 5\n",
    "num_actions = 2\n",
    "gamma = 0.9  # discount factor\n",
    "\n",
    "# Initialize the Q-table with zeros\n",
    "Q = np.zeros((num_states, num_actions))\n",
    "\n",
    "# Define the reward matrix\n",
    "rewards = np.array([\n",
    "    [-1, 0],\n",
    "    [-1, -1],\n",
    "    [0, -1],\n",
    "    [-1, 1],\n",
    "    [0, 0]\n",
    "])\n",
    "\n",
    "# Define the transition matrix\n",
    "transitions = np.array([\n",
    "    [0, 1],\n",
    "    [0, 2],\n",
    "    [1, 3],\n",
    "    [2, 4],\n",
    "    [3, 4]\n",
    "])\n",
    "\n",
    "# Training the Q-learning algorithm\n",
    "num_episodes = 1000\n",
    "\n",
    "for episode in range(num_episodes):\n",
    "    state = np.random.randint(0, num_states)  # Randomly initialize the starting state\n",
    "\n",
    "    while True:\n",
    "        action = np.argmax(Q[state, :]) if np.random.rand() < 0.9 else np.random.randint(0, num_actions)\n",
    "\n",
    "        next_state = transitions[state, action]\n",
    "        reward = rewards[state, action]\n",
    "\n",
    "        # Update Q-value using the Bellman equation\n",
    "        Q[state, action] = reward + gamma * np.max(Q[next_state, :])\n",
    "\n",
    "        state = next_state\n",
    "\n",
    "        if state == 4:  # Terminal state\n",
    "            break\n",
    "\n",
    "# Testing the learned policy\n",
    "current_state = 0\n",
    "path = [current_state]\n",
    "\n",
    "while current_state != 4:\n",
    "    action = np.argmax(Q[current_state, :])\n",
    "    current_state = transitions[current_state, action]\n",
    "    path.append(current_state)\n",
    "\n",
    "print(\"Learned Q-values:\")\n",
    "print(Q)\n",
    "print(\"Optimal path:\")\n",
    "print(path)\n"
   ]
  },
  {
   "cell_type": "code",
   "execution_count": null,
   "id": "3a3325f4",
   "metadata": {},
   "outputs": [],
   "source": []
  }
 ],
 "metadata": {
  "kernelspec": {
   "display_name": "Python 3 (ipykernel)",
   "language": "python",
   "name": "python3"
  },
  "language_info": {
   "codemirror_mode": {
    "name": "ipython",
    "version": 3
   },
   "file_extension": ".py",
   "mimetype": "text/x-python",
   "name": "python",
   "nbconvert_exporter": "python",
   "pygments_lexer": "ipython3",
   "version": "3.10.9"
  }
 },
 "nbformat": 4,
 "nbformat_minor": 5
}
