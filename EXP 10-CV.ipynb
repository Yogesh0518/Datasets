{
 "cells": [
  {
   "cell_type": "code",
   "execution_count": 1,
   "id": "3ee4c26d",
   "metadata": {},
   "outputs": [
    {
     "name": "stdout",
     "output_type": "stream",
     "text": [
      "Cross-Validated R2 Scores: [0.93419651 0.93960249 0.89937482 0.90264936 0.95607441]\n",
      "Mean R2 Score: 0.9263795181390904\n",
      "Standard Deviation: 0.021955012487251898\n"
     ]
    }
   ],
   "source": [
    "# Import necessary packages\n",
    "from sklearn.linear_model import LinearRegression\n",
    "from sklearn.datasets import load_iris\n",
    "from sklearn.model_selection import cross_val_score\n",
    "from sklearn.model_selection import StratifiedKFold\n",
    "\n",
    "# Load the Iris dataset\n",
    "iris = load_iris()\n",
    "X = iris.data\n",
    "y = iris.target\n",
    "\n",
    "# Create a LinearRegression model\n",
    "linear_reg = LinearRegression()\n",
    "\n",
    "# Use cross-validation to evaluate the model\n",
    "# Specify the cross-validation strategy (StratifiedKFold for classification)\n",
    "cv = StratifiedKFold(n_splits=5)\n",
    "\n",
    "# Perform cross-validation and calculate performance scores\n",
    "scores = cross_val_score(linear_reg, X, y, cv=cv, scoring='r2')\n",
    "\n",
    "# Print the cross-validated scores\n",
    "print(\"Cross-Validated R2 Scores:\", scores)\n",
    "\n",
    "# Print the mean and standard deviation of the scores\n",
    "print(f\"Mean R2 Score: {scores.mean()}\")\n",
    "print(f\"Standard Deviation: {scores.std()}\")\n"
   ]
  },
  {
   "cell_type": "code",
   "execution_count": null,
   "id": "9ab98089",
   "metadata": {},
   "outputs": [],
   "source": []
  }
 ],
 "metadata": {
  "kernelspec": {
   "display_name": "Python 3 (ipykernel)",
   "language": "python",
   "name": "python3"
  },
  "language_info": {
   "codemirror_mode": {
    "name": "ipython",
    "version": 3
   },
   "file_extension": ".py",
   "mimetype": "text/x-python",
   "name": "python",
   "nbconvert_exporter": "python",
   "pygments_lexer": "ipython3",
   "version": "3.10.9"
  }
 },
 "nbformat": 4,
 "nbformat_minor": 5
}
